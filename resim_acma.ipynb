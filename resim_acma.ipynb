{
 "cells": [
  {
   "cell_type": "code",
   "execution_count": 2,
   "id": "44470c03-062c-4fd1-8df6-bd875b0a5365",
   "metadata": {},
   "outputs": [],
   "source": [
    "import cv2"
   ]
  },
  {
   "cell_type": "markdown",
   "id": "ed2634ac-9fea-4db3-aa3a-0eddbb57d9aa",
   "metadata": {},
   "source": [
    "## cv2.imread(filename, flags)\n",
    "### filename (string): Okunacak olan görüntünün dosya adı veya dosya yolu.\n",
    "### flags (int, opsiyonel): Görüntü okuma işlemi sırasında kullanılacak bayraklar. Bu parametre, görüntünün nasıl okunacağını belirler. Örneğin, renkli bir görüntüyü BGR renk formatında veya gri tonlamalı olarak okumak için farklı bayraklar kullanılabilir. Varsayılan değer, 'cv2.IMREAD_COLOR' \"dur."
   ]
  },
  {
   "cell_type": "code",
   "execution_count": 3,
   "id": "2a57ce13-516b-4611-8afc-1e40b6a6aeb1",
   "metadata": {},
   "outputs": [],
   "source": [
    "img = cv2.imread(filename='messi5.jpg', flags=0)"
   ]
  },
  {
   "cell_type": "code",
   "execution_count": 4,
   "id": "1d133c50-15e1-4537-9654-29e1f11058db",
   "metadata": {},
   "outputs": [
    {
     "data": {
      "text/plain": [
       "array([[ 42,  47,  50, ...,  55,  53,  53],\n",
       "       [ 45,  49,  53, ...,  59,  58,  58],\n",
       "       [ 48,  54,  59, ...,  65,  64,  63],\n",
       "       ...,\n",
       "       [114, 107, 102, ..., 106, 110, 110],\n",
       "       [118, 120, 111, ..., 111, 117, 117],\n",
       "       [112, 120, 109, ..., 110, 105, 105]], dtype=uint8)"
      ]
     },
     "execution_count": 4,
     "metadata": {},
     "output_type": "execute_result"
    }
   ],
   "source": [
    "img"
   ]
  },
  {
   "cell_type": "markdown",
   "id": "84344157-eeda-4fe5-a4ea-2b5ce6ed225c",
   "metadata": {},
   "source": [
    "### imread() fonksiyonu ile görseli okuduk. Numpy array'i olarak her bir veri pikselleri ifade ediyor."
   ]
  },
  {
   "cell_type": "code",
   "execution_count": null,
   "id": "8617ec2f-b896-4b5e-8385-90e4e9709c5a",
   "metadata": {},
   "outputs": [],
   "source": []
  },
  {
   "cell_type": "markdown",
   "id": "963a5057-93d2-4dc9-95b2-2abea36b1f52",
   "metadata": {},
   "source": [
    "## cv2.imshow(winname, mat, args)\n",
    "### winname (string): Görüntünün gösterileceği pencerenin adı. Birden fazla pencereyi ayırt etmek için benzersiz bir ad kullanılabilir.\n",
    "### mat (numpy array): Gösterilecek görüntünün numpy dizisi. Bu dizi, 'cv2.imread()' veya diğer görüntü işleme işlemlerinden dönen bir dizi olabilir.\n",
    "### args (varargs, opsiyonel): İsteğe bağlı ek parametreler. Bu parametreler, görüntünün ölçeğini, görüntünün ekran üzerinde nasıl yerleştirileceğini vb. belirlemek için kullanılabilir. Örneğin, 'cv2.WINDOW_NORMAL' bayrağı kullanılarak pencere boyutu değiştirilebilir.\n",
    "\n",
    "### ***************************************************************************************************\n",
    "\n",
    "## cv2.waitKey(delay)\n",
    "### delay (int, opsiyonel): Bekleme süresi, milisaniye cinsinden ifade edilir. Bu parametre 'cv2.waitKey()' fonksiyonunun ne kadar süre boyunca bekleyeceğini belirler. Varsayılan olarak 0'dır, yani tuşa basılıncaya kadar veya pencere kapatılıncaya kadar bekler.\n",
    "\n",
    "### ************************************************************************************************\n",
    "\n",
    "## cv2.imwrite(filename, img, params)\n",
    "### filename (string): Kaydedilecek görüntünün dosya adı veya dosya yolu.\n",
    "### img (numpy array): Kaydedilecek görüntünün numpy dizisi. Bu dizi, 'cv2.imread()' veya diğer görüntü işleme işlemlerinden dönen bir dizi olabilir.\n",
    "### params (list, opsiyonel): İsteğe bağlı ek kaydetme parametreleri. Bu parametreler, kaydedilen görüntünün kalitesini, sıkıştırma seviyesini, dosya formatını vb. belirlemek için kullanılabilir."
   ]
  },
  {
   "cell_type": "code",
   "execution_count": 5,
   "id": "ba797523-3c31-4f5b-97a0-69c8d80feb8a",
   "metadata": {},
   "outputs": [],
   "source": [
    "cv2.imshow('ilk resim', img)\n",
    "k = cv2.waitKey(0) & 0xFF\n",
    "\n",
    "if k == 27: #esc\n",
    "    cv2.destroyAllWindows()\n",
    "elif k == ord('s'):\n",
    "    cv2.imwrite('messi_gray.png', img)\n",
    "    cv2.destroyAllWindows()"
   ]
  },
  {
   "cell_type": "markdown",
   "id": "6fc3d1dc-a38f-4baa-bfcc-d7adcfff49fd",
   "metadata": {},
   "source": [
    "# Tüm Kod"
   ]
  },
  {
   "cell_type": "code",
   "execution_count": 7,
   "id": "ffc13162-83e1-4aa4-bdd0-395429cbda02",
   "metadata": {},
   "outputs": [],
   "source": [
    "img = cv2.imread(filename='messi5.jpg', flags=0)\n",
    "cv2.imshow(winname='image', mat=img)\n",
    "k = cv2.waitKey(0) & 0xFF\n",
    "\n",
    "if k == 27: # esc\n",
    "    cv2.destroyAllWindows()\n",
    "elif k == ord('s'):\n",
    "    cv2.imwrite(filename='image_gray.png', img=img)\n",
    "    cv2.destroyAllWindows()"
   ]
  }
 ],
 "metadata": {
  "kernelspec": {
   "display_name": "Python 3 (ipykernel)",
   "language": "python",
   "name": "python3"
  },
  "language_info": {
   "codemirror_mode": {
    "name": "ipython",
    "version": 3
   },
   "file_extension": ".py",
   "mimetype": "text/x-python",
   "name": "python",
   "nbconvert_exporter": "python",
   "pygments_lexer": "ipython3",
   "version": "3.9.12"
  }
 },
 "nbformat": 4,
 "nbformat_minor": 5
}
